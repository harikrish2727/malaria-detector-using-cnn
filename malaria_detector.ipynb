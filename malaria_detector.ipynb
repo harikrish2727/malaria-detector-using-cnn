{
  "nbformat": 4,
  "nbformat_minor": 0,
  "metadata": {
    "kernelspec": {
      "display_name": "Python 3",
      "language": "python",
      "name": "python3"
    },
    "language_info": {
      "codemirror_mode": {
        "name": "ipython",
        "version": 3
      },
      "file_extension": ".py",
      "mimetype": "text/x-python",
      "name": "python",
      "nbconvert_exporter": "python",
      "pygments_lexer": "ipython3",
      "version": "3.7.6"
    },
    "colab": {
      "name": "malaria_detector.ipynb",
      "provenance": [],
      "include_colab_link": true
    }
  },
  "cells": [
    {
      "cell_type": "markdown",
      "metadata": {
        "id": "view-in-github",
        "colab_type": "text"
      },
      "source": [
        "<a href=\"https://colab.research.google.com/github/harikrish2727/malaria-detector-using-cnn/blob/main/malaria_detector.ipynb\" target=\"_parent\"><img src=\"https://colab.research.google.com/assets/colab-badge.svg\" alt=\"Open In Colab\"/></a>"
      ]
    },
    {
      "cell_type": "code",
      "metadata": {
        "id": "gU9Ns9sLGwyT"
      },
      "source": [
        "import tensorflow as tf\n",
        "\n",
        "import numpy as np\n",
        "import matplotlib.pyplot as plt\n",
        "\n",
        "\n",
        "import os"
      ],
      "execution_count": null,
      "outputs": []
    },
    {
      "cell_type": "code",
      "metadata": {
        "id": "NFtENf-6Gwyg"
      },
      "source": [
        "data_path = r\"C:\\Users\\Vishnu\\Desktop\\cell_images\""
      ],
      "execution_count": null,
      "outputs": []
    },
    {
      "cell_type": "code",
      "metadata": {
        "id": "Lwi5oKtRGwyi",
        "outputId": "e2ce94af-d6fd-48d6-b4a9-1a8c107fb69d"
      },
      "source": [
        "os.listdir(data_path)"
      ],
      "execution_count": null,
      "outputs": [
        {
          "output_type": "execute_result",
          "data": {
            "text/plain": [
              "['.ipynb_checkpoints', 'malaria_detector.ipynb', 'test', 'train']"
            ]
          },
          "metadata": {
            "tags": []
          },
          "execution_count": 3
        }
      ]
    },
    {
      "cell_type": "code",
      "metadata": {
        "id": "aT8qyWu5Gwyk",
        "outputId": "0769297d-16d5-4bfa-e954-ddee8e78ee35"
      },
      "source": [
        "os.listdir(data_path+\"\\\\test\")"
      ],
      "execution_count": null,
      "outputs": [
        {
          "output_type": "execute_result",
          "data": {
            "text/plain": [
              "['parasitized', 'uninfected']"
            ]
          },
          "metadata": {
            "tags": []
          },
          "execution_count": 4
        }
      ]
    },
    {
      "cell_type": "code",
      "metadata": {
        "id": "4svyBXVnGwyl",
        "outputId": "0d19086c-d3e5-401d-af98-702dbaf858a3"
      },
      "source": [
        "os.listdir(data_path+\"\\\\train\")"
      ],
      "execution_count": null,
      "outputs": [
        {
          "output_type": "execute_result",
          "data": {
            "text/plain": [
              "['parasitized', 'uninfected']"
            ]
          },
          "metadata": {
            "tags": []
          },
          "execution_count": 5
        }
      ]
    },
    {
      "cell_type": "code",
      "metadata": {
        "id": "LzL4TPY5Gwym"
      },
      "source": [
        "train_path = data_path+\"\\\\train\""
      ],
      "execution_count": null,
      "outputs": []
    },
    {
      "cell_type": "code",
      "metadata": {
        "id": "DqUBHNyvGwyn"
      },
      "source": [
        "test_path = data_path+\"\\\\test\""
      ],
      "execution_count": null,
      "outputs": []
    },
    {
      "cell_type": "code",
      "metadata": {
        "id": "OpoKKJO-Gwyo",
        "outputId": "218df108-2807-4f64-ef25-853436121611"
      },
      "source": [
        "os.listdir(train_path)"
      ],
      "execution_count": null,
      "outputs": [
        {
          "output_type": "execute_result",
          "data": {
            "text/plain": [
              "['parasitized', 'uninfected']"
            ]
          },
          "metadata": {
            "tags": []
          },
          "execution_count": 8
        }
      ]
    },
    {
      "cell_type": "code",
      "metadata": {
        "id": "k5cEioUwGwyq",
        "outputId": "4422ebe3-3e1d-4a1a-d0db-7b42b58082b5"
      },
      "source": [
        "os.listdir(test_path)"
      ],
      "execution_count": null,
      "outputs": [
        {
          "output_type": "execute_result",
          "data": {
            "text/plain": [
              "['parasitized', 'uninfected']"
            ]
          },
          "metadata": {
            "tags": []
          },
          "execution_count": 9
        }
      ]
    },
    {
      "cell_type": "code",
      "metadata": {
        "id": "JmQ5oqUOGwyr",
        "outputId": "8352fa85-ceb8-462b-e772-1fa58f0d2a59"
      },
      "source": [
        "os.listdir(train_path+\"\\\\parasitized\")[0]"
      ],
      "execution_count": null,
      "outputs": [
        {
          "output_type": "execute_result",
          "data": {
            "text/plain": [
              "'C100P61ThinF_IMG_20150918_144104_cell_162.png'"
            ]
          },
          "metadata": {
            "tags": []
          },
          "execution_count": 10
        }
      ]
    },
    {
      "cell_type": "code",
      "metadata": {
        "id": "Iw_Nu_RrGwys",
        "outputId": "03e4b49b-6e3d-4b7a-8126-1d72a7784e2b"
      },
      "source": [
        "os.listdir(test_path+\"\\\\uninfected\")[0]"
      ],
      "execution_count": null,
      "outputs": [
        {
          "output_type": "execute_result",
          "data": {
            "text/plain": [
              "'C100P61ThinF_IMG_20150918_144104_cell_34.png'"
            ]
          },
          "metadata": {
            "tags": []
          },
          "execution_count": 11
        }
      ]
    },
    {
      "cell_type": "code",
      "metadata": {
        "id": "y9jZBdePGwyt"
      },
      "source": [
        "sample = train_path+\"\\\\parasitized\\\\C100P61ThinF_IMG_20150918_144104_cell_162.png\""
      ],
      "execution_count": null,
      "outputs": []
    },
    {
      "cell_type": "code",
      "metadata": {
        "id": "6AsgB2KvGwyv"
      },
      "source": [
        "sample_uninfected = test_path+\"\\\\uninfected\\\\C100P61ThinF_IMG_20150918_144104_cell_34.png\""
      ],
      "execution_count": null,
      "outputs": []
    },
    {
      "cell_type": "code",
      "metadata": {
        "id": "og7X32IpGwyv"
      },
      "source": [
        "from matplotlib.image import imread"
      ],
      "execution_count": null,
      "outputs": []
    },
    {
      "cell_type": "code",
      "metadata": {
        "id": "ert3TUwrGwyw",
        "outputId": "50a6c166-1a81-437f-ce3f-fa96857510d4"
      },
      "source": [
        "plt.imshow(imread(sample))"
      ],
      "execution_count": null,
      "outputs": [
        {
          "output_type": "execute_result",
          "data": {
            "text/plain": [
              "<matplotlib.image.AxesImage at 0x1df6f076f88>"
            ]
          },
          "metadata": {
            "tags": []
          },
          "execution_count": 15
        },
        {
          "output_type": "display_data",
          "data": {
            "image/png": "[encoded data removed]",
            "text/plain": [
              "<Figure size 432x288 with 1 Axes>"
            ]
          },
          "metadata": {
            "tags": [],
            "needs_background": "light"
          }
        }
      ]
    },
    {
      "cell_type": "code",
      "metadata": {
        "id": "NiEd5hZwGwyw",
        "outputId": "daac7ee0-44cf-49ec-b1b5-3460d0b44ef9"
      },
      "source": [
        "plt.imshow(imread(sample_uninfected))"
      ],
      "execution_count": null,
      "outputs": [
        {
          "output_type": "execute_result",
          "data": {
            "text/plain": [
              "<matplotlib.image.AxesImage at 0x1df6f126848>"
            ]
          },
          "metadata": {
            "tags": []
          },
          "execution_count": 16
        },
        {
          "output_type": "display_data",
          "data": {
            "image/png": "[encoded data removed]",
            "text/plain": [
              "<Figure size 432x288 with 1 Axes>"
            ]
          },
          "metadata": {
            "tags": [],
            "needs_background": "light"
          }
        }
      ]
    },
    {
      "cell_type": "code",
      "metadata": {
        "id": "dvzZKB_GGwyx"
      },
      "source": [
        "from tensorflow.keras.preprocessing.image import ImageDataGenerator"
      ],
      "execution_count": null,
      "outputs": []
    },
    {
      "cell_type": "code",
      "metadata": {
        "id": "3a4HUJNxGwyx"
      },
      "source": [
        "img_gen = ImageDataGenerator(rotation_range=20,\n",
        "                             width_shift_range=0.2,\n",
        "                             height_shift_range=0.2,\n",
        "                             shear_range=0.2,\n",
        "                             zoom_range=0.2,\n",
        "                             channel_shift_range=0.2,\n",
        "                             fill_mode='nearest',\n",
        "                             horizontal_flip=True,\n",
        "                             vertical_flip=True)"
      ],
      "execution_count": null,
      "outputs": []
    },
    {
      "cell_type": "code",
      "metadata": {
        "id": "4DBnHqaAGwyy",
        "outputId": "e7aa507a-8d1e-4520-90b4-ff924e19e1a6"
      },
      "source": [
        "train_gen = img_gen.flow_from_directory(r\"C:\\Users\\Vishnu\\Desktop\\cell_images\\train\",\n",
        "                                        target_size=(64,64),\n",
        "                                        class_mode=\"binary\",\n",
        "                                        batch_size=32)"
      ],
      "execution_count": null,
      "outputs": [
        {
          "output_type": "stream",
          "text": [
            "Found 24958 images belonging to 2 classes.\n"
          ],
          "name": "stdout"
        }
      ]
    },
    {
      "cell_type": "code",
      "metadata": {
        "id": "Lvkw_AT7Gwyz",
        "outputId": "496d7b2c-6a20-4374-c30f-feab5190ea22"
      },
      "source": [
        "test_gen = img_gen.flow_from_directory(test_path,\n",
        "                                      target_size=(64,64),\n",
        "                                      class_mode=\"binary\",\n",
        "                                      batch_size=32,\n",
        "                                      shuffle=False)"
      ],
      "execution_count": null,
      "outputs": [
        {
          "output_type": "stream",
          "text": [
            "Found 2600 images belonging to 2 classes.\n"
          ],
          "name": "stdout"
        }
      ]
    },
    {
      "cell_type": "code",
      "metadata": {
        "id": "gKKT65D6Gwy0"
      },
      "source": [
        "from tensorflow.keras.models import Sequential"
      ],
      "execution_count": null,
      "outputs": []
    },
    {
      "cell_type": "code",
      "metadata": {
        "id": "41uoRb4pGwy0"
      },
      "source": [
        "from tensorflow.keras.layers import Dense,Conv2D,MaxPool2D,Flatten,Dropout"
      ],
      "execution_count": null,
      "outputs": []
    },
    {
      "cell_type": "code",
      "metadata": {
        "id": "1N5u1o9xGwy1"
      },
      "source": [
        "model = Sequential()"
      ],
      "execution_count": null,
      "outputs": []
    },
    {
      "cell_type": "code",
      "metadata": {
        "id": "jKhQktF7Gwy1"
      },
      "source": [
        "model.add(Conv2D(filters=32,kernel_size=4,activation=\"relu\",strides=2,input_shape=(64,64,3)))"
      ],
      "execution_count": null,
      "outputs": []
    },
    {
      "cell_type": "code",
      "metadata": {
        "id": "jJEZQmzZGwy1"
      },
      "source": [
        "model.add(MaxPool2D(pool_size=3))      "
      ],
      "execution_count": null,
      "outputs": []
    },
    {
      "cell_type": "code",
      "metadata": {
        "id": "v-EVisRXGwy2"
      },
      "source": [
        "model.add(Conv2D(filters=64,kernel_size=4,activation=\"relu\",strides=2))"
      ],
      "execution_count": null,
      "outputs": []
    },
    {
      "cell_type": "code",
      "metadata": {
        "id": "Z8OvnGTyGwy2"
      },
      "source": [
        "model.add(MaxPool2D(pool_size=3))"
      ],
      "execution_count": null,
      "outputs": []
    },
    {
      "cell_type": "code",
      "metadata": {
        "id": "0OXBt5rJGwy3"
      },
      "source": [
        "model.add(Flatten()) "
      ],
      "execution_count": null,
      "outputs": []
    },
    {
      "cell_type": "code",
      "metadata": {
        "id": "km5xdZslGwy3"
      },
      "source": [
        "model.add(Dense(units=128,activation=\"relu\"))\n",
        "model.add(Dropout(0.3))\n",
        "          \n",
        "model.add(Dense(units=256,activation=\"relu\"))\n",
        "model.add(Dropout(0.4))\n",
        "          \n",
        "model.add(Dense(units=128,activation=\"relu\"))\n",
        "model.add(Dropout(0.3))\n",
        "          \n",
        "model.add(Dense(units=32,activation=\"relu\"))\n",
        "          \n",
        "model.add(Dense(units=1,activation=\"sigmoid\"))"
      ],
      "execution_count": null,
      "outputs": []
    },
    {
      "cell_type": "code",
      "metadata": {
        "id": "YNJSdmhwGwy4"
      },
      "source": [
        "model.compile(loss='binary_crossentropy',optimizer='adam',metrics=['accuracy'])"
      ],
      "execution_count": null,
      "outputs": []
    },
    {
      "cell_type": "code",
      "metadata": {
        "id": "VWpgQLv8Gwy4"
      },
      "source": [
        "from tensorflow.keras.callbacks import EarlyStopping"
      ],
      "execution_count": null,
      "outputs": []
    },
    {
      "cell_type": "code",
      "metadata": {
        "id": "adWb7W7zGwy4"
      },
      "source": [
        "early = EarlyStopping(patience=1,monitor=\"val_loss\")"
      ],
      "execution_count": null,
      "outputs": []
    },
    {
      "cell_type": "code",
      "metadata": {
        "id": "Uv0sfh8qGwy5",
        "outputId": "86f7f08a-9111-4bc3-bdcf-92674ad6f0ff"
      },
      "source": [
        "model.fit(train_gen,epochs=5,verbose=1,validation_data=test_gen,callbacks=early)"
      ],
      "execution_count": null,
      "outputs": [
        {
          "output_type": "stream",
          "text": [
            "Epoch 1/5\n",
            "780/780 [==============================] - 1908s 2s/step - loss: 1.0942 - accuracy: 0.5173 - val_loss: 0.4854 - val_accuracy: 0.7804\n",
            "Epoch 2/5\n",
            "780/780 [==============================] - 1974s 3s/step - loss: 0.4279 - accuracy: 0.8207 - val_loss: 0.4160 - val_accuracy: 0.8208\n",
            "Epoch 3/5\n",
            "780/780 [==============================] - 3180s 4s/step - loss: 0.3839 - accuracy: 0.8399 - val_loss: 0.3772 - val_accuracy: 0.8454\n",
            "Epoch 4/5\n",
            "780/780 [==============================] - 1605s 2s/step - loss: 0.3562 - accuracy: 0.8586 - val_loss: 0.3787 - val_accuracy: 0.8496\n"
          ],
          "name": "stdout"
        },
        {
          "output_type": "execute_result",
          "data": {
            "text/plain": [
              "<tensorflow.python.keras.callbacks.History at 0x1df6ec630c8>"
            ]
          },
          "metadata": {
            "tags": []
          },
          "execution_count": 33
        }
      ]
    },
    {
      "cell_type": "code",
      "metadata": {
        "id": "QISmhjnWGwy5"
      },
      "source": [
        "from tensorflow.keras.models import load_model"
      ],
      "execution_count": null,
      "outputs": []
    },
    {
      "cell_type": "code",
      "metadata": {
        "id": "qhCtOi3MGwy6"
      },
      "source": [
        "model.save(\"malaria_detection.h5\")"
      ],
      "execution_count": null,
      "outputs": []
    },
    {
      "cell_type": "code",
      "metadata": {
        "id": "MTcGsCmZGwy6"
      },
      "source": [
        "import pandas as pd"
      ],
      "execution_count": null,
      "outputs": []
    },
    {
      "cell_type": "code",
      "metadata": {
        "id": "8GTrLF2IGwy7"
      },
      "source": [
        "loss = pd.DataFrame(model.history.history)"
      ],
      "execution_count": null,
      "outputs": []
    },
    {
      "cell_type": "code",
      "metadata": {
        "id": "iUiEOqe6Gwy7",
        "outputId": "bc96a881-a52d-4aba-c150-66b64fc59da6"
      },
      "source": [
        "loss"
      ],
      "execution_count": null,
      "outputs": [
        {
          "output_type": "execute_result",
          "data": {
            "text/html": [
              "<div>\n",
              "<style scoped>\n",
              "    .dataframe tbody tr th:only-of-type {\n",
              "        vertical-align: middle;\n",
              "    }\n",
              "\n",
              "    .dataframe tbody tr th {\n",
              "        vertical-align: top;\n",
              "    }\n",
              "\n",
              "    .dataframe thead th {\n",
              "        text-align: right;\n",
              "    }\n",
              "</style>\n",
              "<table border=\"1\" class=\"dataframe\">\n",
              "  <thead>\n",
              "    <tr style=\"text-align: right;\">\n",
              "      <th></th>\n",
              "      <th>loss</th>\n",
              "      <th>accuracy</th>\n",
              "      <th>val_loss</th>\n",
              "      <th>val_accuracy</th>\n",
              "    </tr>\n",
              "  </thead>\n",
              "  <tbody>\n",
              "    <tr>\n",
              "      <th>0</th>\n",
              "      <td>0.735808</td>\n",
              "      <td>0.579013</td>\n",
              "      <td>0.485361</td>\n",
              "      <td>0.780385</td>\n",
              "    </tr>\n",
              "    <tr>\n",
              "      <th>1</th>\n",
              "      <td>0.405965</td>\n",
              "      <td>0.831717</td>\n",
              "      <td>0.415966</td>\n",
              "      <td>0.820769</td>\n",
              "    </tr>\n",
              "    <tr>\n",
              "      <th>2</th>\n",
              "      <td>0.371777</td>\n",
              "      <td>0.845140</td>\n",
              "      <td>0.377212</td>\n",
              "      <td>0.845385</td>\n",
              "    </tr>\n",
              "    <tr>\n",
              "      <th>3</th>\n",
              "      <td>0.358373</td>\n",
              "      <td>0.856118</td>\n",
              "      <td>0.378733</td>\n",
              "      <td>0.849615</td>\n",
              "    </tr>\n",
              "  </tbody>\n",
              "</table>\n",
              "</div>"
            ],
            "text/plain": [
              "       loss  accuracy  val_loss  val_accuracy\n",
              "0  0.735808  0.579013  0.485361      0.780385\n",
              "1  0.405965  0.831717  0.415966      0.820769\n",
              "2  0.371777  0.845140  0.377212      0.845385\n",
              "3  0.358373  0.856118  0.378733      0.849615"
            ]
          },
          "metadata": {
            "tags": []
          },
          "execution_count": 40
        }
      ]
    },
    {
      "cell_type": "code",
      "metadata": {
        "id": "Svhy64MmGwy7",
        "outputId": "39290d2a-3e34-46b6-f79a-6d12958fd8e5"
      },
      "source": [
        "plt.plot(loss[[\"accuracy\",\"val_accuracy\"]]);"
      ],
      "execution_count": null,
      "outputs": [
        {
          "output_type": "display_data",
          "data": {
            "image/png": "[encoded data removed]",
            "text/plain": [
              "<Figure size 432x288 with 1 Axes>"
            ]
          },
          "metadata": {
            "tags": [],
            "needs_background": "light"
          }
        }
      ]
    },
    {
      "cell_type": "code",
      "metadata": {
        "id": "O26_xok9Gwy8",
        "outputId": "d35bdc43-b17a-4b5a-8909-af4391de6242"
      },
      "source": [
        "loss[[\"loss\",\"val_loss\"]].plot();"
      ],
      "execution_count": null,
      "outputs": [
        {
          "output_type": "display_data",
          "data": {
            "image/png": "[encoded data removed]",
            "text/plain": [
              "<Figure size 432x288 with 1 Axes>"
            ]
          },
          "metadata": {
            "tags": [],
            "needs_background": "light"
          }
        }
      ]
    },
    {
      "cell_type": "markdown",
      "metadata": {
        "id": "u9agioqxGwy8"
      },
      "source": [
        "# predicting on single Image"
      ]
    },
    {
      "cell_type": "code",
      "metadata": {
        "id": "IVwu7o4PGwy9",
        "outputId": "7c554f4b-a25e-40a4-b590-7fb99c63a8da"
      },
      "source": [
        "os.listdir(data_path)"
      ],
      "execution_count": null,
      "outputs": [
        {
          "output_type": "execute_result",
          "data": {
            "text/plain": [
              "['.ipynb_checkpoints',\n",
              " 'malaria_detection.h5',\n",
              " 'malaria_detector.ipynb',\n",
              " 'single_image',\n",
              " 'test',\n",
              " 'train']"
            ]
          },
          "metadata": {
            "tags": []
          },
          "execution_count": 48
        }
      ]
    },
    {
      "cell_type": "code",
      "metadata": {
        "id": "qclYeYz9Gwy9"
      },
      "source": [
        "single_image = data_path+\"\\\\single_image\""
      ],
      "execution_count": null,
      "outputs": []
    },
    {
      "cell_type": "code",
      "metadata": {
        "id": "5QtY3dnPGwy-",
        "outputId": "733aff85-3869-4c41-a097-c9dc8e86dcbf"
      },
      "source": [
        "os.listdir(single_image)"
      ],
      "execution_count": null,
      "outputs": [
        {
          "output_type": "execute_result",
          "data": {
            "text/plain": [
              "['C1_thinF_IMG_20150604_104722_cell_66.png',\n",
              " 'C39P4thinF_original_IMG_20150622_105803_cell_109.png']"
            ]
          },
          "metadata": {
            "tags": []
          },
          "execution_count": 54
        }
      ]
    },
    {
      "cell_type": "code",
      "metadata": {
        "id": "LuksareBGwy-"
      },
      "source": [
        "test_image1 = single_image+\"\\\\C1_thinF_IMG_20150604_104722_cell_66.png\""
      ],
      "execution_count": null,
      "outputs": []
    },
    {
      "cell_type": "code",
      "metadata": {
        "id": "FsxUf5GCGwy_",
        "outputId": "b17b4ff1-b5ed-44ee-95f9-f993a2a26080"
      },
      "source": [
        "test_image1"
      ],
      "execution_count": null,
      "outputs": [
        {
          "output_type": "execute_result",
          "data": {
            "text/plain": [
              "'C:\\\\Users\\\\Vishnu\\\\Desktop\\\\cell_images\\\\single_image\\\\C1_thinF_IMG_20150604_104722_cell_66.png'"
            ]
          },
          "metadata": {
            "tags": []
          },
          "execution_count": 58
        }
      ]
    },
    {
      "cell_type": "code",
      "metadata": {
        "id": "_0LlUdsfGwy_"
      },
      "source": [
        "from tensorflow.keras.preprocessing import image"
      ],
      "execution_count": null,
      "outputs": []
    },
    {
      "cell_type": "code",
      "metadata": {
        "id": "IYS42DUzGwzA"
      },
      "source": [
        "test_image1 = image.load_img(test_image1,target_size=(64,64,3))"
      ],
      "execution_count": null,
      "outputs": []
    },
    {
      "cell_type": "code",
      "metadata": {
        "id": "zeuGBJeFGwzA",
        "outputId": "b249f61b-f71e-42ba-b4bc-fe937fe0160c"
      },
      "source": [
        "test_image1"
      ],
      "execution_count": null,
      "outputs": [
        {
          "output_type": "execute_result",
          "data": {
            "image/png": "[encoded data removed]",
            "text/plain": [
              "<PIL.Image.Image image mode=RGB size=64x64 at 0x1DF74083EC8>"
            ]
          },
          "metadata": {
            "tags": []
          },
          "execution_count": 64
        }
      ]
    },
    {
      "cell_type": "code",
      "metadata": {
        "id": "xFVqizOuGwzB"
      },
      "source": [
        "test_image1_array = image.img_to_array(test_image1)"
      ],
      "execution_count": null,
      "outputs": []
    },
    {
      "cell_type": "code",
      "metadata": {
        "id": "pj2UuNPeGwzB",
        "outputId": "1e9fa965-fde2-4511-e959-c51c4d2bc94e"
      },
      "source": [
        "test_image1_array.shape"
      ],
      "execution_count": null,
      "outputs": [
        {
          "output_type": "execute_result",
          "data": {
            "text/plain": [
              "(64, 64, 3)"
            ]
          },
          "metadata": {
            "tags": []
          },
          "execution_count": 68
        }
      ]
    },
    {
      "cell_type": "code",
      "metadata": {
        "id": "1KA1x6p_GwzC"
      },
      "source": [
        "test_image_1 = np.expand_dims(test_image1_array,axis=0)"
      ],
      "execution_count": null,
      "outputs": []
    },
    {
      "cell_type": "code",
      "metadata": {
        "id": "kQH8Xx_PGwzC",
        "outputId": "88c0fc7d-7755-4f45-cc4c-6557d6a98299"
      },
      "source": [
        "test_image_1.shape"
      ],
      "execution_count": null,
      "outputs": [
        {
          "output_type": "execute_result",
          "data": {
            "text/plain": [
              "(1, 64, 64, 3)"
            ]
          },
          "metadata": {
            "tags": []
          },
          "execution_count": 72
        }
      ]
    },
    {
      "cell_type": "code",
      "metadata": {
        "id": "uf9fpQeLGwzD",
        "outputId": "90333737-8d91-456a-b457-a5e8515f411d"
      },
      "source": [
        "model.predict_classes(test_image_1)"
      ],
      "execution_count": null,
      "outputs": [
        {
          "output_type": "stream",
          "text": [
            "C:\\Users\\Vishnu\\anaconda3\\lib\\site-packages\\tensorflow\\python\\keras\\engine\\sequential.py:450: UserWarning: `model.predict_classes()` is deprecated and will be removed after 2021-01-01. Please use instead:* `np.argmax(model.predict(x), axis=-1)`,   if your model does multi-class classification   (e.g. if it uses a `softmax` last-layer activation).* `(model.predict(x) > 0.5).astype(\"int32\")`,   if your model does binary classification   (e.g. if it uses a `sigmoid` last-layer activation).\n",
            "  warnings.warn('`model.predict_classes()` is deprecated and '\n"
          ],
          "name": "stderr"
        },
        {
          "output_type": "execute_result",
          "data": {
            "text/plain": [
              "array([[1]])"
            ]
          },
          "metadata": {
            "tags": []
          },
          "execution_count": 75
        }
      ]
    },
    {
      "cell_type": "code",
      "metadata": {
        "id": "VpBx8bk1GwzD",
        "outputId": "2f50c89c-1f8b-4162-81e3-e229fa61528c"
      },
      "source": [
        "train_gen.class_indices"
      ],
      "execution_count": null,
      "outputs": [
        {
          "output_type": "execute_result",
          "data": {
            "text/plain": [
              "{'parasitized': 0, 'uninfected': 1}"
            ]
          },
          "metadata": {
            "tags": []
          },
          "execution_count": 77
        }
      ]
    },
    {
      "cell_type": "code",
      "metadata": {
        "id": "11coWZrXGwzE"
      },
      "source": [
        "test_image2 = single_image+\"\\\\C39P4thinF_original_IMG_20150622_105803_cell_109.png\""
      ],
      "execution_count": null,
      "outputs": []
    },
    {
      "cell_type": "code",
      "metadata": {
        "id": "H5XSfPLiGwzE"
      },
      "source": [
        "test_image2 = image.load_img(test_image2,target_size=(64,64,3))"
      ],
      "execution_count": null,
      "outputs": []
    },
    {
      "cell_type": "code",
      "metadata": {
        "id": "e_VSNA_8GwzE",
        "outputId": "504b6165-c611-42b8-965f-06544bbfebb7"
      },
      "source": [
        "test_image2"
      ],
      "execution_count": null,
      "outputs": [
        {
          "output_type": "execute_result",
          "data": {
            "image/png": "[encoded data removed]",
            "text/plain": [
              "<PIL.Image.Image image mode=RGB size=64x64 at 0x1DF74ADEA08>"
            ]
          },
          "metadata": {
            "tags": []
          },
          "execution_count": 86
        }
      ]
    },
    {
      "cell_type": "code",
      "metadata": {
        "id": "QLE8wlgmGwzF",
        "outputId": "265779e2-85ff-4afe-8ce8-7522701bbeff"
      },
      "source": [
        "type(test_image2)"
      ],
      "execution_count": null,
      "outputs": [
        {
          "output_type": "execute_result",
          "data": {
            "text/plain": [
              "PIL.Image.Image"
            ]
          },
          "metadata": {
            "tags": []
          },
          "execution_count": 87
        }
      ]
    },
    {
      "cell_type": "code",
      "metadata": {
        "id": "ek9WY1NoGwzF"
      },
      "source": [
        "test_image2 = image.img_to_array(test_image2)"
      ],
      "execution_count": null,
      "outputs": []
    },
    {
      "cell_type": "code",
      "metadata": {
        "id": "b8KsQ8QjGwzG",
        "outputId": "7b80fbe8-5029-4771-b764-a90e44e58232"
      },
      "source": [
        "type(test_image2)"
      ],
      "execution_count": null,
      "outputs": [
        {
          "output_type": "execute_result",
          "data": {
            "text/plain": [
              "numpy.ndarray"
            ]
          },
          "metadata": {
            "tags": []
          },
          "execution_count": 89
        }
      ]
    },
    {
      "cell_type": "code",
      "metadata": {
        "id": "afziwygWGwzG",
        "outputId": "42f5c044-ebef-47ae-e8e4-f73cd6dc5d92"
      },
      "source": [
        "test_image2.shape"
      ],
      "execution_count": null,
      "outputs": [
        {
          "output_type": "execute_result",
          "data": {
            "text/plain": [
              "(64, 64, 3)"
            ]
          },
          "metadata": {
            "tags": []
          },
          "execution_count": 90
        }
      ]
    },
    {
      "cell_type": "code",
      "metadata": {
        "id": "mG3rEGlTGwzH"
      },
      "source": [
        "test_image2 = np.expand_dims(test_image2,axis=0)"
      ],
      "execution_count": null,
      "outputs": []
    },
    {
      "cell_type": "code",
      "metadata": {
        "id": "o2rlmJozGwzH",
        "outputId": "9569057b-d5cd-4eaa-c245-391424493e38"
      },
      "source": [
        "test_image2.shape"
      ],
      "execution_count": null,
      "outputs": [
        {
          "output_type": "execute_result",
          "data": {
            "text/plain": [
              "(1, 64, 64, 3)"
            ]
          },
          "metadata": {
            "tags": []
          },
          "execution_count": 93
        }
      ]
    },
    {
      "cell_type": "code",
      "metadata": {
        "id": "mlJJJR2hGwzH",
        "outputId": "b1a17c2e-e02a-410f-8b15-a86f311965e7"
      },
      "source": [
        "model.predict_classes(test_image2)"
      ],
      "execution_count": null,
      "outputs": [
        {
          "output_type": "stream",
          "text": [
            "C:\\Users\\Vishnu\\anaconda3\\lib\\site-packages\\tensorflow\\python\\keras\\engine\\sequential.py:450: UserWarning: `model.predict_classes()` is deprecated and will be removed after 2021-01-01. Please use instead:* `np.argmax(model.predict(x), axis=-1)`,   if your model does multi-class classification   (e.g. if it uses a `softmax` last-layer activation).* `(model.predict(x) > 0.5).astype(\"int32\")`,   if your model does binary classification   (e.g. if it uses a `sigmoid` last-layer activation).\n",
            "  warnings.warn('`model.predict_classes()` is deprecated and '\n"
          ],
          "name": "stderr"
        },
        {
          "output_type": "execute_result",
          "data": {
            "text/plain": [
              "array([[0]])"
            ]
          },
          "metadata": {
            "tags": []
          },
          "execution_count": 94
        }
      ]
    },
    {
      "cell_type": "code",
      "metadata": {
        "id": "pU1PsENQGwzI",
        "outputId": "3e1dd025-e783-4d3b-8ee4-f741197321d6"
      },
      "source": [
        "train_gen.class_indices"
      ],
      "execution_count": null,
      "outputs": [
        {
          "output_type": "execute_result",
          "data": {
            "text/plain": [
              "{'parasitized': 0, 'uninfected': 1}"
            ]
          },
          "metadata": {
            "tags": []
          },
          "execution_count": 95
        }
      ]
    },
    {
      "cell_type": "code",
      "metadata": {
        "id": "tb6xv3PqGwzI"
      },
      "source": [
        ""
      ],
      "execution_count": null,
      "outputs": []
    }
  ]
}